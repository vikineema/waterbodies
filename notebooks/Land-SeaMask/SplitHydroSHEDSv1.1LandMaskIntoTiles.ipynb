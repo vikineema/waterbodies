{
 "cells": [
  {
   "cell_type": "markdown",
   "id": "7a8a9021-c350-44b7-af88-6271a191f01a",
   "metadata": {},
   "source": [
    "# Split HydroSHEDS v1.1 Land Mask"
   ]
  },
  {
   "cell_type": "markdown",
   "id": "1699fb75-5298-4566-a1e0-bdf116a96aee",
   "metadata": {},
   "source": [
    "This notebook uses the following datasets:\n",
    "- HydroSHEDS vesion 1.1 Land Mask\n",
    "\n",
    "    License: The core products of HydroSHEDS v1 are freely available for scientific, educational and commercial use. The data are distributed under a specific license agreement that is included in the [HydroSHEDS Technical Documentation](https://data.hydrosheds.org/file/technical-documentation/HydroSHEDS_TechDoc_v1_4.pdf). For all regulations regarding license grants, copyright, redistribution restrictions, required attributions, disclaimer of warranty, indemnification, liability, and waiver of damages, please refer to the license agreement. By downloading and using the data the user agrees to the terms and conditions of the license agreement.\n",
    "\n",
    "    Reference: Lehner, B., Verdin, K., Jarvis, A. (2008). New global hydrography derived from spaceborne elevation data. Eos, Transactions, American Geophysical Union, 89(10): 93–94. https://doi.org/10.1029/2008eo100001\n",
    "    \n",
    "- Global Oceans and Seas v01 (2021-12-14)\n",
    "   \n",
    "    License: The dataset is licensed under a [Creative Commons Attribution 4.0 International License](https://creativecommons.org/licenses/by/4.0/) and has the following [Disclaimer](https://www.marineregions.org/disclaimer.php)\n",
    "    \n",
    "    Reference: Flanders Marine Institute (2021). Global Oceans and Seas, version 1. Available online at https://www.marineregions.org/. https://doi.org/10.14284/542\n",
    "\n",
    "\n",
    "> **Prerequisites**:The Global Oceans and Seas v01 (2021-12-14) dataset shapefile was downloaded from [here](https://www.vliz.be/en/imis?dasid=7842&doiid=613) and converted into a GeoParquet file using QGIS then uploaded to s3. The HydroSHED version 1.1 Land Mask for Africa was downloaded from [here](https://data.hydrosheds.org/file/hydrosheds-v1-msk/af_msk_3s.zip), unzipped and the GeoTIFF file uploaded to s3."
   ]
  },
  {
   "cell_type": "code",
   "execution_count": null,
   "id": "0cf4b499-15aa-468f-a876-bfac6bce0bb0",
   "metadata": {},
   "outputs": [],
   "source": [
    "from dotenv import load_dotenv\n",
    "\n",
    "# Path to env file containing the waterbodies database credentials\n",
    "# Only necessary on the Sandbox.\n",
    "dotenv_path = \"/home/jovyan/.env\"\n",
    "load_dotenv(dotenv_path=dotenv_path, verbose=True, override=True)"
   ]
  },
  {
   "cell_type": "code",
   "execution_count": null,
   "id": "7e3aa920-5dff-420b-a477-f53efec7a12f",
   "metadata": {},
   "outputs": [],
   "source": [
    "import logging\n",
    "import os\n",
    "\n",
    "import geopandas as gpd\n",
    "import numpy as np\n",
    "import rioxarray  # noqa F401\n",
    "from datacube import Datacube\n",
    "from tqdm import tqdm\n",
    "\n",
    "from waterbodies.grid import WaterbodiesGrid\n",
    "from waterbodies.hopper import create_tasks_from_datasets\n",
    "from waterbodies.io import (\n",
    "    check_directory_exists,\n",
    "    get_filesystem,\n",
    "    is_s3_path,\n",
    "    load_vector_file,\n",
    ")\n",
    "from waterbodies.logs import logging_setup\n",
    "from waterbodies.text import get_tile_index_str_from_tuple\n",
    "from waterbodies.utils import rio_slurp_xarray"
   ]
  },
  {
   "cell_type": "code",
   "execution_count": null,
   "id": "17748528-4a82-42e9-a551-de50dda0c0ee",
   "metadata": {},
   "outputs": [],
   "source": [
    "goas_file_path = \"s3://deafrica-waterbodies-dev/waterbodies/v0.0.2/land_sea_masks/goas_v01.parquet\"\n",
    "hydrosheds_land_mask_file_path = \"s3://deafrica-waterbodies-dev/waterbodies/v0.0.2/land_sea_masks/af_msk_3s.tif\"\n",
    "output_directory = \"s3://deafrica-waterbodies-dev/waterbodies/v0.0.2/hydrosheds_v1_1_land_mask/\""
   ]
  },
  {
   "cell_type": "code",
   "execution_count": null,
   "id": "4ec621ac-53b2-4945-9ea2-715cdac6baff",
   "metadata": {},
   "outputs": [],
   "source": [
    "logging_setup(3)\n",
    "_log = logging.getLogger(__name__)"
   ]
  },
  {
   "cell_type": "code",
   "execution_count": null,
   "id": "3f374102-a41b-4ee2-9c46-fa9f59768474",
   "metadata": {},
   "outputs": [],
   "source": [
    "if not check_directory_exists(output_directory):\n",
    "    fs = get_filesystem(output_directory, anon=False)\n",
    "    fs.mkdirs(output_directory)\n",
    "    _log.info(f\"Created directory {output_directory}\")"
   ]
  },
  {
   "cell_type": "code",
   "execution_count": null,
   "id": "bd4e44f6-ec73-471a-ba18-c11d5d7cf436",
   "metadata": {},
   "outputs": [],
   "source": [
    "if is_s3_path(output_directory):\n",
    "    # To avoid the error GDAL signalled an error: err_no=1, msg='w+ not supported for /vsis3,\n",
    "    # unless CPL_VSIL_USE_TEMP_FILE_FOR_RANDOM_WRITE is set to YES'\n",
    "    # when writing to s3 using rioxarray's rio.to_raster\n",
    "    os.environ[\"CPL_VSIL_USE_TEMP_FILE_FOR_RANDOM_WRITE\"] = \"YES\""
   ]
  },
  {
   "cell_type": "code",
   "execution_count": null,
   "id": "dd6ff0cb-93c3-4a5b-9367-e81015a911a4",
   "metadata": {},
   "outputs": [],
   "source": [
    "# Find all the tiles that will be used to generate the Waterbodies\n",
    "# historical extent polygons\n",
    "dc = Datacube(app=\"tiles\")\n",
    "gridspec = WaterbodiesGrid().gridspec\n",
    "\n",
    "dc_query = dict(product=\"wofs_ls_summary_alltime\")\n",
    "datasets = dc.find_datasets(**dc_query)\n",
    "tasks = create_tasks_from_datasets(\n",
    "    datasets=datasets, tile_index_filter=None, bin_solar_day=False\n",
    ")\n",
    "tile_indices = [k for task in tasks for k, v in task.items()]\n",
    "tile_extents = [\n",
    "    gridspec.tile_geobox(tile_index=tile_index).extent.geom for tile_index in tile_indices\n",
    "]\n",
    "tile_extents_gdf = gpd.GeoDataFrame(\n",
    "    data={\"tile_index\": tile_indices, \"geometry\": tile_extents}, crs=gridspec.crs\n",
    ")\n",
    "tile_extents_gdf.set_index(\"tile_index\", inplace=True)\n",
    "\n",
    "_log.info(f\"Found {len(tile_extents_gdf)} WaterBodiesGrid tiles\")"
   ]
  },
  {
   "cell_type": "code",
   "execution_count": null,
   "id": "80265a5a-e9fe-4487-80f7-8176d38d08f0",
   "metadata": {},
   "outputs": [],
   "source": [
    "# Load the Global Oceans and Seas dataset.\n",
    "goas_v01_gdf = load_vector_file(goas_file_path).to_crs(gridspec.crs)\n",
    "goas_v01_gdf"
   ]
  },
  {
   "cell_type": "code",
   "execution_count": null,
   "id": "bf49af46-134f-4542-a7ad-2e1516884fd4",
   "metadata": {},
   "outputs": [],
   "source": [
    "# Identify all tiles that intersect with  Global Oceans and Seas dataset\n",
    "# This will be the coastal tiles.\n",
    "coastal_tile_indices = (\n",
    "    tile_extents_gdf.sjoin(goas_v01_gdf, predicate=\"intersects\", how=\"inner\")\n",
    "    .index.unique()\n",
    "    .to_list()\n",
    ")\n",
    "coastal_tile_geoboxes = [\n",
    "    gridspec.tile_geobox(tile_index=tile_index) for tile_index in coastal_tile_indices\n",
    "]\n",
    "coastal_tiles = list(zip(coastal_tile_indices, coastal_tile_geoboxes))\n",
    "\n",
    "_log.info(f\"Found {len(coastal_tiles)} coastal WaterBodiesGrid tiles\")"
   ]
  },
  {
   "cell_type": "code",
   "execution_count": null,
   "id": "3fe60047-1ef2-4854-b06b-710ed51e8795",
   "metadata": {},
   "outputs": [],
   "source": [
    "fs = get_filesystem(output_directory, anon=False)\n",
    "with tqdm(\n",
    "    iterable=coastal_tiles,\n",
    "    desc=\"Rasterizing coastal HydroSHEDS version 1.1 Land Mask tiles\",\n",
    "    total=len(coastal_tiles),\n",
    ") as coastal_tiles:\n",
    "    for tile in coastal_tiles:\n",
    "        tile_index, tile_geobox = tile\n",
    "        tile_index_str = get_tile_index_str_from_tuple(tile_index)\n",
    "        tile_raster_fp = os.path.join(\n",
    "            output_directory, f\"hydrosheds_v1_1_land_mask_{tile_index_str}.tif\"\n",
    "        )\n",
    "        tile_hydrosheds_land_mask = rio_slurp_xarray(\n",
    "            fname=hydrosheds_land_mask_file_path, gbox=tile_geobox, resampling=\"bilinear\"\n",
    "        )\n",
    "        # Indicator values: 1 = land, 2 = ocean sink, 3 = inland sink, 255 is no data.\n",
    "        tile_raster = np.logical_or(\n",
    "            tile_hydrosheds_land_mask == 1, tile_hydrosheds_land_mask == 3\n",
    "        ).astype(int)\n",
    "        # Write to file\n",
    "        tile_raster.rio.to_raster(tile_raster_fp)"
   ]
  }
 ],
 "metadata": {
  "kernelspec": {
   "display_name": "Python 3 (ipykernel)",
   "language": "python",
   "name": "python3"
  },
  "language_info": {
   "codemirror_mode": {
    "name": "ipython",
    "version": 3
   },
   "file_extension": ".py",
   "mimetype": "text/x-python",
   "name": "python",
   "nbconvert_exporter": "python",
   "pygments_lexer": "ipython3",
   "version": "3.10.12"
  }
 },
 "nbformat": 4,
 "nbformat_minor": 5
}
