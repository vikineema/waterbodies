{
 "cells": [
  {
   "cell_type": "markdown",
   "id": "7a8a9021-c350-44b7-af88-6271a191f01a",
   "metadata": {},
   "source": [
    "# Split HydroSHEDS v1.1 Land Mask"
   ]
  },
  {
   "cell_type": "markdown",
   "id": "1699fb75-5298-4566-a1e0-bdf116a96aee",
   "metadata": {},
   "source": [
    "This notebook uses the following datasets:\n",
    "- HydroSHEDS vesion 1.1 Land Mask\n",
    "\n",
    "    License: The core products of HydroSHEDS v1 are freely available for scientific, educational and commercial use. The data are distributed under a specific license agreement that is included in the [HydroSHEDS Technical Documentation](https://data.hydrosheds.org/file/technical-documentation/HydroSHEDS_TechDoc_v1_4.pdf). For all regulations regarding license grants, copyright, redistribution restrictions, required attributions, disclaimer of warranty, indemnification, liability, and waiver of damages, please refer to the license agreement. By downloading and using the data the user agrees to the terms and conditions of the license agreement.\n",
    "\n",
    "    Reference: Lehner, B., Verdin, K., Jarvis, A. (2008). New global hydrography derived from spaceborne elevation data. Eos, Transactions, American Geophysical Union, 89(10): 93–94. https://doi.org/10.1029/2008eo100001\n",
    "    \n",
    "- Global Oceans and Seas v01 (2021-12-14)\n",
    "   \n",
    "    License: The dataset is licensed under a [Creative Commons Attribution 4.0 International License](https://creativecommons.org/licenses/by/4.0/) and has the following [Disclaimer](https://www.marineregions.org/disclaimer.php)\n",
    "    \n",
    "    Reference: Flanders Marine Institute (2021). Global Oceans and Seas, version 1. Available online at https://www.marineregions.org/. https://doi.org/10.14284/542\n",
    "\n",
    "\n",
    "> **Prerequisites**:The Global Oceans and Seas v01 (2021-12-14) dataset shapefile was downloaded from [here](https://www.vliz.be/en/imis?dasid=7842&doiid=613) and converted into a GeoParquet file using QGIS then uploaded to s3. The HydroSHED version 1.1 Land Mask for Africa was downloaded from [here](https://data.hydrosheds.org/file/hydrosheds-v1-msk/af_msk_3s.zip), unzipped and the GeoTIFF file uploaded to s3."
   ]
  },
  {
   "cell_type": "code",
   "execution_count": 1,
   "id": "0cf4b499-15aa-468f-a876-bfac6bce0bb0",
   "metadata": {},
   "outputs": [
    {
     "data": {
      "text/plain": [
       "True"
      ]
     },
     "execution_count": 1,
     "metadata": {},
     "output_type": "execute_result"
    }
   ],
   "source": [
    "from dotenv import load_dotenv\n",
    "\n",
    "# Path to env file containing the waterbodies database credentials\n",
    "# Only necessary on the Sandbox.\n",
    "dotenv_path = \"/home/jovyan/.env\"\n",
    "load_dotenv(dotenv_path=dotenv_path, verbose=True, override=True)"
   ]
  },
  {
   "cell_type": "code",
   "execution_count": 2,
   "id": "7e3aa920-5dff-420b-a477-f53efec7a12f",
   "metadata": {},
   "outputs": [],
   "source": [
    "import logging\n",
    "import os\n",
    "\n",
    "import geopandas as gpd\n",
    "import numpy as np\n",
    "import rioxarray\n",
    "from datacube import Datacube\n",
    "from odc.geo.xr import to_cog\n",
    "from tqdm import tqdm\n",
    "from waterbodies.grid import WaterbodiesGrid\n",
    "from waterbodies.hopper import create_tasks_from_datasets\n",
    "from waterbodies.io import get_filesystem, is_s3_path, load_vector_file, check_directory_exists\n",
    "from waterbodies.logs import logging_setup\n",
    "from waterbodies.text import get_tile_index_str_from_tuple\n",
    "from waterbodies.utils import rio_slurp_xarray"
   ]
  },
  {
   "cell_type": "code",
   "execution_count": 3,
   "id": "17748528-4a82-42e9-a551-de50dda0c0ee",
   "metadata": {},
   "outputs": [],
   "source": [
    "product_footprint_url = \"https://explorer.digitalearth.africa/api/footprint/wofs_ls_summary_alltime\"\n",
    "goas_v01_url = \"s3://deafrica-waterbodies-dev/waterbodies/v0.0.2/land_sea_masks/goas_v01.parquet\"\n",
    "hydrosheds_land_mask_file = \"s3://deafrica-waterbodies-dev/waterbodies/v0.0.2/land_sea_masks/af_msk_3s.tif\"\n",
    "output_directory = \"s3://deafrica-waterbodies-dev/waterbodies/v0.0.2/hydrosheds_v1_1_land_mask/\""
   ]
  },
  {
   "cell_type": "code",
   "execution_count": 4,
   "id": "14aab93a-386c-4855-8096-007bf19bde46",
   "metadata": {},
   "outputs": [],
   "source": [
    "# Set up logging.\n",
    "logging_setup(3)\n",
    "_log = logging.getLogger(__name__)"
   ]
  },
  {
   "cell_type": "code",
   "execution_count": 5,
   "id": "83246879-add1-494d-9764-98565dedb9b4",
   "metadata": {},
   "outputs": [
    {
     "name": "stdout",
     "output_type": "stream",
     "text": [
      "[2024-06-13 20:46:18,215] {credentials.py:567} INFO - Found credentials in environment variables.\n",
      "[2024-06-13 20:46:18,389] {554847729.py:4} INFO - Created directory s3://deafrica-waterbodies-dev/waterbodies/v0.0.2/hydrosheds_v1_1_land_mask/\n"
     ]
    }
   ],
   "source": [
    "if not check_directory_exists(output_directory):\n",
    "    fs = get_filesystem(output_directory, anon=False)\n",
    "    fs.mkdirs(output_directory)\n",
    "    _log.info(f\"Created directory {output_directory}\")"
   ]
  },
  {
   "cell_type": "code",
   "execution_count": 6,
   "id": "030cdcdd-4398-4762-bd21-8fe3c1f09267",
   "metadata": {},
   "outputs": [],
   "source": [
    "if is_s3_path(output_directory):\n",
    "    # To avoid the error GDAL signalled an error: err_no=1, msg='w+ not supported for /vsis3,\n",
    "    # unless CPL_VSIL_USE_TEMP_FILE_FOR_RANDOM_WRITE is set to YES'\n",
    "    # when writing to s3 using rioxarray's rio.to_raster\n",
    "    os.environ[\"CPL_VSIL_USE_TEMP_FILE_FOR_RANDOM_WRITE\"] = \"YES\""
   ]
  },
  {
   "cell_type": "code",
   "execution_count": 7,
   "id": "b3bc227f-97b4-4e77-8e2a-93075b88a731",
   "metadata": {},
   "outputs": [
    {
     "name": "stderr",
     "output_type": "stream",
     "text": [
      "Processing 4461 datasets: 100%|██████████| 4461/4461 [00:02<00:00, 1693.76it/s]\n"
     ]
    },
    {
     "name": "stdout",
     "output_type": "stream",
     "text": [
      "[2024-06-13 20:46:22,270] {<timed exec>:23} INFO - Found 4456 tiles\n",
      "CPU times: user 3.65 s, sys: 69.6 ms, total: 3.71 s\n",
      "Wall time: 3.87 s\n"
     ]
    }
   ],
   "source": [
    "%%time\n",
    "# Find all the tiles that will be used to generate the Waterbodies\n",
    "# historical extent polygons\n",
    "dc = Datacube(app=\"tiles\")\n",
    "gridspec = WaterbodiesGrid().gridspec\n",
    "\n",
    "dc_query = dict(product=\"wofs_ls_summary_alltime\")\n",
    "datasets = dc.find_datasets(**dc_query)\n",
    "\n",
    "tasks = create_tasks_from_datasets(datasets=datasets, tile_index_filter=None, bin_solar_day=False)\n",
    "tile_indices = [k for task in tasks for k,v in task.items()]\n",
    "\n",
    "tile_extents = [\n",
    "    gridspec.tile_geobox(tile_index=tile_index).extent.geom\n",
    "    for tile_index in tile_indices\n",
    "]\n",
    "\n",
    "tile_extents_gdf = gpd.GeoDataFrame(\n",
    "    data={\"tile_index\": tile_indices, \"geometry\": tile_extents}, crs=gridspec.crs\n",
    ")\n",
    "\n",
    "tile_extents_gdf.set_index(\"tile_index\", inplace=True)\n",
    "\n",
    "_log.info(f\"Found {len(tile_extents_gdf)} tiles\")"
   ]
  },
  {
   "cell_type": "code",
   "execution_count": 8,
   "id": "c1a7f39b-5a4e-4e4a-b5bb-98a33f5f7ee9",
   "metadata": {},
   "outputs": [],
   "source": [
    "# Load the product footprint.\n",
    "product_footprint_gdf = load_vector_file(product_footprint_url).to_crs(gridspec.crs)"
   ]
  },
  {
   "cell_type": "code",
   "execution_count": 9,
   "id": "f5199385-96ca-4cad-a8ca-07cc4be65445",
   "metadata": {},
   "outputs": [
    {
     "data": {
      "text/html": [
       "<div>\n",
       "<style scoped>\n",
       "    .dataframe tbody tr th:only-of-type {\n",
       "        vertical-align: middle;\n",
       "    }\n",
       "\n",
       "    .dataframe tbody tr th {\n",
       "        vertical-align: top;\n",
       "    }\n",
       "\n",
       "    .dataframe thead th {\n",
       "        text-align: right;\n",
       "    }\n",
       "</style>\n",
       "<table border=\"1\" class=\"dataframe\">\n",
       "  <thead>\n",
       "    <tr style=\"text-align: right;\">\n",
       "      <th></th>\n",
       "      <th>name</th>\n",
       "      <th>latitude</th>\n",
       "      <th>longitude</th>\n",
       "      <th>min_Y</th>\n",
       "      <th>min_X</th>\n",
       "      <th>max_Y</th>\n",
       "      <th>max_X</th>\n",
       "      <th>area_km2</th>\n",
       "      <th>geometry</th>\n",
       "    </tr>\n",
       "  </thead>\n",
       "  <tbody>\n",
       "    <tr>\n",
       "      <th>0</th>\n",
       "      <td>Southern Ocean</td>\n",
       "      <td>-68.0398500000</td>\n",
       "      <td>-26.6327500000</td>\n",
       "      <td>-85.5625000000</td>\n",
       "      <td>-180.0000000000</td>\n",
       "      <td>-60.0000000000</td>\n",
       "      <td>180.0000000000</td>\n",
       "      <td>6793589</td>\n",
       "      <td>MULTIPOLYGON (((17367530.445 -6351419.997, 141...</td>\n",
       "    </tr>\n",
       "    <tr>\n",
       "      <th>1</th>\n",
       "      <td>South Atlantic Ocean</td>\n",
       "      <td>-33.7375800000</td>\n",
       "      <td>-18.8341100000</td>\n",
       "      <td>-60.0000000000</td>\n",
       "      <td>-69.6008400000</td>\n",
       "      <td>0.0751100000</td>\n",
       "      <td>20.0000000000</td>\n",
       "      <td>42815540</td>\n",
       "      <td>MULTIPOLYGON (((-4889932.764 0.000, -4898670.8...</td>\n",
       "    </tr>\n",
       "    <tr>\n",
       "      <th>2</th>\n",
       "      <td>South Pacific Ocean</td>\n",
       "      <td>-30.0961200000</td>\n",
       "      <td>-143.0608800000</td>\n",
       "      <td>-60.0000000000</td>\n",
       "      <td>130.1112900000</td>\n",
       "      <td>3.3911400000</td>\n",
       "      <td>-67.2666700000</td>\n",
       "      <td>90147400</td>\n",
       "      <td>MULTIPOLYGON (((-6843963.864 -5987437.671, -68...</td>\n",
       "    </tr>\n",
       "    <tr>\n",
       "      <th>3</th>\n",
       "      <td>North Pacific Ocean</td>\n",
       "      <td>26.9501300000</td>\n",
       "      <td>-169.3833400000</td>\n",
       "      <td>0E-10</td>\n",
       "      <td>117.5162200000</td>\n",
       "      <td>66.5628600000</td>\n",
       "      <td>-76.9854400000</td>\n",
       "      <td>77124830</td>\n",
       "      <td>MULTIPOLYGON (((15162668.182 6202856.081, 1516...</td>\n",
       "    </tr>\n",
       "    <tr>\n",
       "      <th>4</th>\n",
       "      <td>South China and Easter Archipelagic Seas</td>\n",
       "      <td>5.6294300000</td>\n",
       "      <td>115.4654800000</td>\n",
       "      <td>-10.9225900000</td>\n",
       "      <td>95.4332800000</td>\n",
       "      <td>25.5672800000</td>\n",
       "      <td>134.0315500000</td>\n",
       "      <td>6822162</td>\n",
       "      <td>MULTIPOLYGON (((11509135.769 3148036.787, 1150...</td>\n",
       "    </tr>\n",
       "    <tr>\n",
       "      <th>5</th>\n",
       "      <td>Indian Ocean</td>\n",
       "      <td>-27.2727200000</td>\n",
       "      <td>79.6024100000</td>\n",
       "      <td>-60.0000000000</td>\n",
       "      <td>20.0000000000</td>\n",
       "      <td>31.1858600000</td>\n",
       "      <td>146.9167100000</td>\n",
       "      <td>78162363</td>\n",
       "      <td>MULTIPOLYGON (((5411625.915 3333798.547, 54114...</td>\n",
       "    </tr>\n",
       "    <tr>\n",
       "      <th>6</th>\n",
       "      <td>Mediterranean Region</td>\n",
       "      <td>38.1306500000</td>\n",
       "      <td>19.7006700000</td>\n",
       "      <td>30.0680900000</td>\n",
       "      <td>-6.0325500000</td>\n",
       "      <td>47.3764000000</td>\n",
       "      <td>42.3549600000</td>\n",
       "      <td>2988248</td>\n",
       "      <td>MULTIPOLYGON (((3142866.248 3666334.372, 31428...</td>\n",
       "    </tr>\n",
       "    <tr>\n",
       "      <th>7</th>\n",
       "      <td>Baltic Sea</td>\n",
       "      <td>58.7847800000</td>\n",
       "      <td>19.2211500000</td>\n",
       "      <td>52.6535200000</td>\n",
       "      <td>9.3656000000</td>\n",
       "      <td>67.0805900000</td>\n",
       "      <td>30.3471000000</td>\n",
       "      <td>415600</td>\n",
       "      <td>MULTIPOLYGON (((2639423.703 6382686.936, 26395...</td>\n",
       "    </tr>\n",
       "    <tr>\n",
       "      <th>8</th>\n",
       "      <td>North Atlantic Ocean</td>\n",
       "      <td>31.7762100000</td>\n",
       "      <td>-40.2475800000</td>\n",
       "      <td>-0.9360300000</td>\n",
       "      <td>-98.0539200000</td>\n",
       "      <td>68.6387200000</td>\n",
       "      <td>12.0059400000</td>\n",
       "      <td>41741693</td>\n",
       "      <td>MULTIPOLYGON (((-2839226.735 6814318.697, -283...</td>\n",
       "    </tr>\n",
       "    <tr>\n",
       "      <th>9</th>\n",
       "      <td>Arctic Ocean</td>\n",
       "      <td>79.1479200000</td>\n",
       "      <td>-3.2856800000</td>\n",
       "      <td>51.1435900000</td>\n",
       "      <td>-180.0000000000</td>\n",
       "      <td>90.0000000000</td>\n",
       "      <td>180.0000000000</td>\n",
       "      <td>15571669</td>\n",
       "      <td>MULTIPOLYGON (((17203129.832 6870188.502, 1720...</td>\n",
       "    </tr>\n",
       "  </tbody>\n",
       "</table>\n",
       "</div>"
      ],
      "text/plain": [
       "                                       name        latitude        longitude  \\\n",
       "0                            Southern Ocean  -68.0398500000   -26.6327500000   \n",
       "1                      South Atlantic Ocean  -33.7375800000   -18.8341100000   \n",
       "2                       South Pacific Ocean  -30.0961200000  -143.0608800000   \n",
       "3                       North Pacific Ocean   26.9501300000  -169.3833400000   \n",
       "4  South China and Easter Archipelagic Seas    5.6294300000   115.4654800000   \n",
       "5                              Indian Ocean  -27.2727200000    79.6024100000   \n",
       "6                      Mediterranean Region   38.1306500000    19.7006700000   \n",
       "7                                Baltic Sea   58.7847800000    19.2211500000   \n",
       "8                      North Atlantic Ocean   31.7762100000   -40.2475800000   \n",
       "9                              Arctic Ocean   79.1479200000    -3.2856800000   \n",
       "\n",
       "            min_Y            min_X           max_Y           max_X  area_km2  \\\n",
       "0  -85.5625000000  -180.0000000000  -60.0000000000  180.0000000000   6793589   \n",
       "1  -60.0000000000   -69.6008400000    0.0751100000   20.0000000000  42815540   \n",
       "2  -60.0000000000   130.1112900000    3.3911400000  -67.2666700000  90147400   \n",
       "3           0E-10   117.5162200000   66.5628600000  -76.9854400000  77124830   \n",
       "4  -10.9225900000    95.4332800000   25.5672800000  134.0315500000   6822162   \n",
       "5  -60.0000000000    20.0000000000   31.1858600000  146.9167100000  78162363   \n",
       "6   30.0680900000    -6.0325500000   47.3764000000   42.3549600000   2988248   \n",
       "7   52.6535200000     9.3656000000   67.0805900000   30.3471000000    415600   \n",
       "8   -0.9360300000   -98.0539200000   68.6387200000   12.0059400000  41741693   \n",
       "9   51.1435900000  -180.0000000000   90.0000000000  180.0000000000  15571669   \n",
       "\n",
       "                                            geometry  \n",
       "0  MULTIPOLYGON (((17367530.445 -6351419.997, 141...  \n",
       "1  MULTIPOLYGON (((-4889932.764 0.000, -4898670.8...  \n",
       "2  MULTIPOLYGON (((-6843963.864 -5987437.671, -68...  \n",
       "3  MULTIPOLYGON (((15162668.182 6202856.081, 1516...  \n",
       "4  MULTIPOLYGON (((11509135.769 3148036.787, 1150...  \n",
       "5  MULTIPOLYGON (((5411625.915 3333798.547, 54114...  \n",
       "6  MULTIPOLYGON (((3142866.248 3666334.372, 31428...  \n",
       "7  MULTIPOLYGON (((2639423.703 6382686.936, 26395...  \n",
       "8  MULTIPOLYGON (((-2839226.735 6814318.697, -283...  \n",
       "9  MULTIPOLYGON (((17203129.832 6870188.502, 1720...  "
      ]
     },
     "execution_count": 9,
     "metadata": {},
     "output_type": "execute_result"
    }
   ],
   "source": [
    "# Load the Global Oceans and Seas dataset.\n",
    "goas_v01_gdf = load_vector_file(goas_v01_url).to_crs(gridspec.crs)\n",
    "goas_v01_gdf"
   ]
  },
  {
   "cell_type": "code",
   "execution_count": 10,
   "id": "090b9eed-bc69-49cd-818a-498fc71e76cd",
   "metadata": {},
   "outputs": [
    {
     "data": {
      "text/html": [
       "<div>\n",
       "<style scoped>\n",
       "    .dataframe tbody tr th:only-of-type {\n",
       "        vertical-align: middle;\n",
       "    }\n",
       "\n",
       "    .dataframe tbody tr th {\n",
       "        vertical-align: top;\n",
       "    }\n",
       "\n",
       "    .dataframe thead th {\n",
       "        text-align: right;\n",
       "    }\n",
       "</style>\n",
       "<table border=\"1\" class=\"dataframe\">\n",
       "  <thead>\n",
       "    <tr style=\"text-align: right;\">\n",
       "      <th></th>\n",
       "      <th>name</th>\n",
       "      <th>latitude</th>\n",
       "      <th>longitude</th>\n",
       "      <th>min_Y</th>\n",
       "      <th>min_X</th>\n",
       "      <th>max_Y</th>\n",
       "      <th>max_X</th>\n",
       "      <th>area_km2</th>\n",
       "      <th>geometry</th>\n",
       "    </tr>\n",
       "  </thead>\n",
       "  <tbody>\n",
       "    <tr>\n",
       "      <th>1</th>\n",
       "      <td>South Atlantic Ocean</td>\n",
       "      <td>-33.7375800000</td>\n",
       "      <td>-18.8341100000</td>\n",
       "      <td>-60.0000000000</td>\n",
       "      <td>-69.6008400000</td>\n",
       "      <td>0.0751100000</td>\n",
       "      <td>20.0000000000</td>\n",
       "      <td>42815540</td>\n",
       "      <td>POLYGON ((899352.608 -248048.382, 899273.347 -...</td>\n",
       "    </tr>\n",
       "    <tr>\n",
       "      <th>5</th>\n",
       "      <td>Indian Ocean</td>\n",
       "      <td>-27.2727200000</td>\n",
       "      <td>79.6024100000</td>\n",
       "      <td>-60.0000000000</td>\n",
       "      <td>20.0000000000</td>\n",
       "      <td>31.1858600000</td>\n",
       "      <td>146.9167100000</td>\n",
       "      <td>78162363</td>\n",
       "      <td>MULTIPOLYGON (((3158299.965 -3184931.808, 3158...</td>\n",
       "    </tr>\n",
       "    <tr>\n",
       "      <th>8</th>\n",
       "      <td>North Atlantic Ocean</td>\n",
       "      <td>31.7762100000</td>\n",
       "      <td>-40.2475800000</td>\n",
       "      <td>-0.9360300000</td>\n",
       "      <td>-98.0539200000</td>\n",
       "      <td>68.6387200000</td>\n",
       "      <td>12.0059400000</td>\n",
       "      <td>41741693</td>\n",
       "      <td>MULTIPOLYGON (((-1322294.947 1208979.004, -132...</td>\n",
       "    </tr>\n",
       "    <tr>\n",
       "      <th>6</th>\n",
       "      <td>Mediterranean Region</td>\n",
       "      <td>38.1306500000</td>\n",
       "      <td>19.7006700000</td>\n",
       "      <td>30.0680900000</td>\n",
       "      <td>-6.0325500000</td>\n",
       "      <td>47.3764000000</td>\n",
       "      <td>42.3549600000</td>\n",
       "      <td>2988248</td>\n",
       "      <td>MULTIPOLYGON (((3446541.900 4126666.361, 34462...</td>\n",
       "    </tr>\n",
       "  </tbody>\n",
       "</table>\n",
       "</div>"
      ],
      "text/plain": [
       "                   name        latitude       longitude           min_Y  \\\n",
       "1  South Atlantic Ocean  -33.7375800000  -18.8341100000  -60.0000000000   \n",
       "5          Indian Ocean  -27.2727200000   79.6024100000  -60.0000000000   \n",
       "8  North Atlantic Ocean   31.7762100000  -40.2475800000   -0.9360300000   \n",
       "6  Mediterranean Region   38.1306500000   19.7006700000   30.0680900000   \n",
       "\n",
       "            min_X          max_Y           max_X  area_km2  \\\n",
       "1  -69.6008400000   0.0751100000   20.0000000000  42815540   \n",
       "5   20.0000000000  31.1858600000  146.9167100000  78162363   \n",
       "8  -98.0539200000  68.6387200000   12.0059400000  41741693   \n",
       "6   -6.0325500000  47.3764000000   42.3549600000   2988248   \n",
       "\n",
       "                                            geometry  \n",
       "1  POLYGON ((899352.608 -248048.382, 899273.347 -...  \n",
       "5  MULTIPOLYGON (((3158299.965 -3184931.808, 3158...  \n",
       "8  MULTIPOLYGON (((-1322294.947 1208979.004, -132...  \n",
       "6  MULTIPOLYGON (((3446541.900 4126666.361, 34462...  "
      ]
     },
     "execution_count": 10,
     "metadata": {},
     "output_type": "execute_result"
    }
   ],
   "source": [
    "# Clip the Global Oceans and Seas dataset to the product footprint.\n",
    "goas_v01_gdf_clipped = gpd.clip(goas_v01_gdf, product_footprint_gdf)\n",
    "goas_v01_gdf_clipped"
   ]
  },
  {
   "cell_type": "code",
   "execution_count": 11,
   "id": "93613cab-476a-47b3-a24a-da8fa6e2e5e3",
   "metadata": {},
   "outputs": [
    {
     "name": "stdout",
     "output_type": "stream",
     "text": [
      "[2024-06-13 20:47:25,536] {1713832489.py:7} INFO - Found 1415 coastal tiles\n"
     ]
    }
   ],
   "source": [
    "# Identify all tiles that intersect with goas_v01_gdf_clipped\n",
    "# This will be the coastal tiles.\n",
    "coastal_tile_indices = tile_extents_gdf.sjoin(goas_v01_gdf_clipped, predicate=\"intersects\", how=\"inner\").index.to_list()\n",
    "coastal_tile_geoboxes = [gridspec.tile_geobox(tile_index=tile_index) for tile_index in coastal_tile_indices]\n",
    "coastal_tiles = list(zip(coastal_tile_indices, coastal_tile_geoboxes))\n",
    "\n",
    "_log.info(f\"Found {len(coastal_tiles)} coastal tiles\")"
   ]
  },
  {
   "cell_type": "code",
   "execution_count": 13,
   "id": "3578ffea-caf5-4fc8-9b2c-19fe5c4a2c9b",
   "metadata": {},
   "outputs": [
    {
     "name": "stderr",
     "output_type": "stream",
     "text": [
      "Rasterizing coastal HydroSHEDS Land Mask tiles: 100%|██████████| 1415/1415 [26:38<00:00,  1.13s/it]\n"
     ]
    }
   ],
   "source": [
    "fs = get_filesystem(output_directory, anon=False)\n",
    "with tqdm(iterable=coastal_tiles, desc=\"Rasterizing coastal HydroSHEDS Land Mask tiles\", total=len(coastal_tiles)) as coastal_tiles:\n",
    "    for tile  in coastal_tiles:\n",
    "        tile_index, tile_geobox = tile\n",
    "        tile_index_str = get_tile_index_str_from_tuple(tile_index)\n",
    "        tile_raster_fp = os.path.join(output_directory, f\"hydrosheds_v1_1_land_mask_{tile_index_str}.tif\")\n",
    "        tile_hydrosheds_land_mask = rio_slurp_xarray(fname=hydrosheds_land_mask_file, gbox=tile_geobox, resampling=\"bilinear\")\n",
    "        # Indicator values: 1 = land, 2 = ocean sink, 3 = inland sink, 255 is no data.\n",
    "        tile_raster = np.logical_or(tile_hydrosheds_land_mask == 1, tile_hydrosheds_land_mask == 3).astype(int)\n",
    "        # Write to file\n",
    "        cog_bytes = to_cog(geo_im=tile_raster)\n",
    "        with fs.open(tile_raster_fp, 'wb') as f:\n",
    "            f.write(cog_bytes)"
   ]
  }
 ],
 "metadata": {
  "kernelspec": {
   "display_name": "Python 3 (ipykernel)",
   "language": "python",
   "name": "python3"
  },
  "language_info": {
   "codemirror_mode": {
    "name": "ipython",
    "version": 3
   },
   "file_extension": ".py",
   "mimetype": "text/x-python",
   "name": "python",
   "nbconvert_exporter": "python",
   "pygments_lexer": "ipython3",
   "version": "3.10.12"
  }
 },
 "nbformat": 4,
 "nbformat_minor": 5
}
